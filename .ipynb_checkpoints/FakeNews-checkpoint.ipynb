{
 "cells": [
  {
   "cell_type": "markdown",
   "id": "882debaf-0602-4293-b473-8c3f2855f986",
   "metadata": {},
   "source": [
    "## ICS 438 Project: Fake News\n",
    "### by: Leilani Reich"
   ]
  },
  {
   "cell_type": "markdown",
   "id": "54ce549f-78a1-4757-80c6-b302d9f94dd6",
   "metadata": {},
   "source": [
    "## Link to Dataset -------"
   ]
  },
  {
   "cell_type": "markdown",
   "id": "3f497c6e-13d4-4510-ae89-11b272aa2a12",
   "metadata": {},
   "source": [
    "## Install Libraries"
   ]
  },
  {
   "cell_type": "code",
   "execution_count": 29,
   "id": "e2e39f04-e1aa-4f4b-a965-2bcc232ed6c0",
   "metadata": {},
   "outputs": [
    {
     "name": "stdout",
     "output_type": "stream",
     "text": [
      "Collecting gensim\n",
      "  Downloading gensim-4.2.0-cp310-cp310-manylinux_2_17_x86_64.manylinux2014_x86_64.whl (24.0 MB)\n",
      "\u001b[2K     \u001b[90m━━━━━━━━━━━━━━━━━━━━━━━━━━━━━━━━━━━━━━━━\u001b[0m \u001b[32m24.0/24.0 MB\u001b[0m \u001b[31m6.8 MB/s\u001b[0m eta \u001b[36m0:00:00\u001b[0m00:01\u001b[0m00:01\u001b[0m\n",
      "\u001b[?25hRequirement already satisfied: numpy>=1.17.0 in /opt/conda/lib/python3.10/site-packages (from gensim) (1.22.4)\n",
      "Collecting smart-open>=1.8.1\n",
      "  Downloading smart_open-6.2.0-py3-none-any.whl (58 kB)\n",
      "\u001b[2K     \u001b[90m━━━━━━━━━━━━━━━━━━━━━━━━━━━━━━━━━━━━━━━━\u001b[0m \u001b[32m58.6/58.6 kB\u001b[0m \u001b[31m8.4 MB/s\u001b[0m eta \u001b[36m0:00:00\u001b[0m\n",
      "\u001b[?25hRequirement already satisfied: scipy>=0.18.1 in /opt/conda/lib/python3.10/site-packages (from gensim) (1.9.1)\n",
      "Installing collected packages: smart-open, gensim\n",
      "Successfully installed gensim-4.2.0 smart-open-6.2.0\n"
     ]
    }
   ],
   "source": [
    "#!pip install pyspark\n",
    "!python -m pip install -U gensim"
   ]
  },
  {
   "cell_type": "code",
   "execution_count": 1,
   "id": "be1c7d51-f60b-4fb8-8d94-52c65f033eb9",
   "metadata": {},
   "outputs": [],
   "source": [
    "# Create new Spark Context\n",
    "from pyspark import SparkContext\n",
    "sc = SparkContext()"
   ]
  },
  {
   "cell_type": "code",
   "execution_count": 2,
   "id": "57b90493-7309-4aa6-9d52-088ee43f9802",
   "metadata": {},
   "outputs": [],
   "source": [
    "# Create new Spark Session\n",
    "from pyspark.sql import SparkSession\n",
    "session = SparkSession(sc)"
   ]
  },
  {
   "cell_type": "markdown",
   "id": "c40d7380-a384-46dc-a37c-0aaa37819e1a",
   "metadata": {},
   "source": [
    "### Load in Data"
   ]
  },
  {
   "cell_type": "code",
   "execution_count": 22,
   "id": "fb7267b9-75ac-4c6a-ae86-10d729d43f47",
   "metadata": {},
   "outputs": [
    {
     "name": "stdout",
     "output_type": "stream",
     "text": [
      "<class 'pyspark.sql.dataframe.DataFrame'>\n"
     ]
    }
   ],
   "source": [
    "fake_df = session.read.csv(\"Fake.csv\", header=True)\n",
    "\n",
    "print(type(fake_df))"
   ]
  },
  {
   "cell_type": "code",
   "execution_count": 23,
   "id": "705b2ef7-0317-497e-986e-8f3e1a790ad0",
   "metadata": {},
   "outputs": [
    {
     "name": "stdout",
     "output_type": "stream",
     "text": [
      "root\n",
      " |-- title: string (nullable = true)\n",
      " |-- text: string (nullable = true)\n",
      " |-- subject: string (nullable = true)\n",
      " |-- date: string (nullable = true)\n",
      "\n"
     ]
    }
   ],
   "source": [
    "fake_df.printSchema()"
   ]
  },
  {
   "cell_type": "code",
   "execution_count": 24,
   "id": "09ab630e-52aa-42af-9b89-28fb6750ea0f",
   "metadata": {},
   "outputs": [
    {
     "name": "stdout",
     "output_type": "stream",
     "text": [
      "<class 'pyspark.sql.dataframe.DataFrame'>\n"
     ]
    }
   ],
   "source": [
    "true_df = session.read.csv(\"True.csv\", header=True)\n",
    "\n",
    "print(type(true_df))"
   ]
  },
  {
   "cell_type": "code",
   "execution_count": 25,
   "id": "1713746a-e19c-4815-82bb-968fbc17c4c0",
   "metadata": {},
   "outputs": [
    {
     "name": "stdout",
     "output_type": "stream",
     "text": [
      "root\n",
      " |-- title: string (nullable = true)\n",
      " |-- text: string (nullable = true)\n",
      " |-- subject: string (nullable = true)\n",
      " |-- date: string (nullable = true)\n",
      "\n"
     ]
    }
   ],
   "source": [
    "true_df.printSchema()"
   ]
  },
  {
   "cell_type": "markdown",
   "id": "bed7272b-a329-400d-9680-d26760b97c06",
   "metadata": {},
   "source": [
    "## Preprocess Data"
   ]
  },
  {
   "cell_type": "code",
   "execution_count": 27,
   "id": "2ec31188-fa7e-4d33-87d8-f4fe53bec081",
   "metadata": {},
   "outputs": [],
   "source": [
    "# Remove missing info\n",
    "\n",
    "fake_df = fake_df.dropna()\n",
    "\n",
    "true_df = true_df.dropna()\n"
   ]
  },
  {
   "cell_type": "code",
   "execution_count": 61,
   "id": "6b6e0385-470d-42f2-8c20-0ba3cedf4b7b",
   "metadata": {},
   "outputs": [
    {
     "name": "stdout",
     "output_type": "stream",
     "text": [
      "+--------------------+\n",
      "|             subject|\n",
      "+--------------------+\n",
      "| 2017His original...|\n",
      "| 2017millions of ...|\n",
      "| 2017Full day wor...|\n",
      "| 2017@Pontifex @B...|\n",
      "| 2017Pollack prev...|\n",
      "| 2017Those sentim...|\n",
      "| 2017And if that ...|\n",
      "| 2017Trump s  pat...|\n",
      "| 2017Rep. Ileana ...|\n",
      "| 2017@realDonaldT...|\n",
      "| 2017Indiana Atto...|\n",
      "| really bad for y...|\n",
      "| but what did you...|\n",
      "| 2017This isn t M...|\n",
      "| 2017@missmayn Th...|\n",
      "| what about now?S...|\n",
      "|             2017But|\n",
      "| 2017It is true t...|\n",
      "| 2017Spicer comme...|\n",
      "| and people close...|\n",
      "+--------------------+\n",
      "only showing top 20 rows\n",
      "\n"
     ]
    }
   ],
   "source": [
    "import matplotlib.pyplot as plt\n",
    "\n",
    "# Visualize the types of fake news\n",
    "\n",
    "cols = fake_df.select(\"subject\").distinct()\n",
    "\n",
    "cols.show()\n",
    "# Visualize the most prominent dates of fake news"
   ]
  },
  {
   "cell_type": "code",
   "execution_count": 37,
   "id": "09524e42-9ea8-45b6-9de4-7f441db8164f",
   "metadata": {},
   "outputs": [
    {
     "data": {
      "text/plain": [
       "[2893, 1898, 3597, 2774, 2346]"
      ]
     },
     "execution_count": 43,
     "metadata": {},
     "output_type": "execute_result"
    }
   ],
   "source": [
    "# Preprocess the text data\n",
    "from gensim.parsing.preprocessing import remove_stopwords\n",
    "\n",
    "fake_rdd = fake_df.rdd.map(lambda x: remove_stopwords(x[\"text\"]))  \n",
    "\n",
    "#fake_df = fake_rdd.toDF([\"title\", \"text\", \"subject\", \"date\"])\n",
    "\n",
    "fake_rdd.take(5)\n",
    "\n",
    "\n"
   ]
  },
  {
   "cell_type": "markdown",
   "id": "8c5b8e68-48cd-45c8-a061-bcaf77e335e0",
   "metadata": {},
   "source": [
    "## Encode Data"
   ]
  },
  {
   "cell_type": "code",
   "execution_count": null,
   "id": "a339e237-925a-45a5-be5f-8b482b5ff9d4",
   "metadata": {},
   "outputs": [],
   "source": [
    "\n",
    "\n",
    "# What/who are the topics of fake news (Name Entity Recognition)?\n",
    "# Which type of news has the most negative sentiment (Sentiment Analysis)?\n",
    "# Can we classify fake news?"
   ]
  }
 ],
 "metadata": {
  "kernelspec": {
   "display_name": "Python 3 (ipykernel)",
   "language": "python",
   "name": "python3"
  },
  "language_info": {
   "codemirror_mode": {
    "name": "ipython",
    "version": 3
   },
   "file_extension": ".py",
   "mimetype": "text/x-python",
   "name": "python",
   "nbconvert_exporter": "python",
   "pygments_lexer": "ipython3",
   "version": "3.10.6"
  }
 },
 "nbformat": 4,
 "nbformat_minor": 5
}
